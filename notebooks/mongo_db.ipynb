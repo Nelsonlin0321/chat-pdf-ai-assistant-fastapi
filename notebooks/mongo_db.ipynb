{
 "cells": [
  {
   "cell_type": "code",
   "execution_count": null,
   "metadata": {},
   "outputs": [],
   "source": [
    "import sys\n",
    "sys.path.insert(0, \"./../\")"
   ]
  },
  {
   "cell_type": "code",
   "execution_count": null,
   "metadata": {},
   "outputs": [],
   "source": [
    "import os\n",
    "from typing import Dict, List\n",
    "\n",
    "import dotenv\n",
    "from pymongo import MongoClient\n",
    "\n",
    "dotenv.load_dotenv()\n",
    "\n",
    "MONGODB_URL = os.getenv(\"MONGODB_URL\")\n",
    "if not MONGODB_URL:\n",
    "    # pylint: disable=broad-exception-raised\n",
    "    raise Exception(\"MONGODB_URL is not defined\")\n",
    "\n",
    "DB_NAME = \"RAG\"\n",
    "FILE_COLLECTION = \"UploadedFile\"\n",
    "EMBEDDING_COLLECTION = \"Embedding\""
   ]
  },
  {
   "cell_type": "code",
   "execution_count": null,
   "metadata": {},
   "outputs": [],
   "source": [
    "dotenv.load_dotenv()"
   ]
  },
  {
   "cell_type": "code",
   "execution_count": null,
   "metadata": {},
   "outputs": [],
   "source": [
    "class self:\n",
    "    pass"
   ]
  },
  {
   "cell_type": "code",
   "execution_count": null,
   "metadata": {},
   "outputs": [],
   "source": [
    "self.client = MongoClient(MONGODB_URL)\n",
    "self.db_name = DB_NAME\n",
    "self.db = self.client[self.db_name]"
   ]
  },
  {
   "cell_type": "code",
   "execution_count": null,
   "metadata": {},
   "outputs": [],
   "source": [
    "collection = self.db[FILE_COLLECTION]"
   ]
  },
  {
   "cell_type": "code",
   "execution_count": null,
   "metadata": {},
   "outputs": [],
   "source": [
    "file_key = \"chatpdf/user_2cotzAlVmd4jt0TlizIjUV0tzTi/c336d4d7-01fe-4a4f-90bd-b977f5e83cbd/investment_policy_guidelines.pdf\""
   ]
  },
  {
   "cell_type": "code",
   "execution_count": null,
   "metadata": {},
   "outputs": [],
   "source": [
    "collection.delete_many(\n",
    "    {\"file_key\": file_key})"
   ]
  },
  {
   "cell_type": "code",
   "execution_count": null,
   "metadata": {},
   "outputs": [],
   "source": [
    "collection = self.db[EMBEDDING_COLLECTION]"
   ]
  },
  {
   "cell_type": "code",
   "execution_count": null,
   "metadata": {},
   "outputs": [],
   "source": [
    "collection.delete_many(\n",
    "    {\"file_key\": file_key})"
   ]
  },
  {
   "cell_type": "code",
   "execution_count": null,
   "metadata": {},
   "outputs": [],
   "source": [
    "collection = self.db[\"Chat\"]"
   ]
  },
  {
   "cell_type": "code",
   "execution_count": null,
   "metadata": {},
   "outputs": [],
   "source": [
    "collection.delete_many(\n",
    "    {\"file_key\": file_key})"
   ]
  },
  {
   "cell_type": "code",
   "execution_count": null,
   "metadata": {},
   "outputs": [],
   "source": []
  }
 ],
 "metadata": {
  "kernelspec": {
   "display_name": "venv",
   "language": "python",
   "name": "python3"
  },
  "language_info": {
   "codemirror_mode": {
    "name": "ipython",
    "version": 3
   },
   "file_extension": ".py",
   "mimetype": "text/x-python",
   "name": "python",
   "nbconvert_exporter": "python",
   "pygments_lexer": "ipython3",
   "version": "3.10.8"
  }
 },
 "nbformat": 4,
 "nbformat_minor": 2
}
