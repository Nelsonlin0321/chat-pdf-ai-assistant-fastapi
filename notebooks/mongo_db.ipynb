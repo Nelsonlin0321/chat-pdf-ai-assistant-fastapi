{
 "cells": [
  {
   "cell_type": "code",
   "execution_count": 1,
   "metadata": {},
   "outputs": [],
   "source": [
    "import sys\n",
    "sys.path.insert(0, \"./../\")"
   ]
  },
  {
   "cell_type": "code",
   "execution_count": 2,
   "metadata": {},
   "outputs": [],
   "source": [
    "import os\n",
    "from typing import Dict, List\n",
    "\n",
    "import dotenv\n",
    "from pymongo import MongoClient\n",
    "\n",
    "dotenv.load_dotenv()\n",
    "\n",
    "MONGODB_URL = os.getenv(\"MONGODB_URL\")\n",
    "if not MONGODB_URL:\n",
    "    # pylint: disable=broad-exception-raised\n",
    "    raise Exception(\"MONGODB_URL is not defined\")\n",
    "\n",
    "DB_NAME = \"RAG\"\n",
    "FILE_COLLECTION = \"UploadedFile\"\n",
    "EMBEDDING_COLLECTION = \"Embedding\""
   ]
  },
  {
   "cell_type": "code",
   "execution_count": 3,
   "metadata": {},
   "outputs": [
    {
     "data": {
      "text/plain": [
       "True"
      ]
     },
     "execution_count": 3,
     "metadata": {},
     "output_type": "execute_result"
    }
   ],
   "source": [
    "dotenv.load_dotenv()"
   ]
  },
  {
   "cell_type": "code",
   "execution_count": 4,
   "metadata": {},
   "outputs": [],
   "source": [
    "class self:\n",
    "    pass"
   ]
  },
  {
   "cell_type": "code",
   "execution_count": 5,
   "metadata": {},
   "outputs": [],
   "source": [
    "self.client = MongoClient(MONGODB_URL)\n",
    "self.db_name = DB_NAME\n",
    "self.db = self.client[self.db_name]"
   ]
  },
  {
   "cell_type": "code",
   "execution_count": 6,
   "metadata": {},
   "outputs": [],
   "source": [
    "collection = self.db[FILE_COLLECTION]"
   ]
  },
  {
   "cell_type": "code",
   "execution_count": 7,
   "metadata": {},
   "outputs": [],
   "source": [
    "file_key = \"chatpdf/user_2cotzAlVmd4jt0TlizIjUV0tzTi/c336d4d7-01fe-4a4f-90bd-b977f5e83cbd/investment_policy_guidelines.pdf\""
   ]
  },
  {
   "cell_type": "code",
   "execution_count": 8,
   "metadata": {},
   "outputs": [
    {
     "data": {
      "text/plain": [
       "DeleteResult({'n': 1, 'electionId': ObjectId('7fffffff0000000000000048'), 'opTime': {'ts': Timestamp(1709313683, 2), 't': 72}, 'ok': 1.0, '$clusterTime': {'clusterTime': Timestamp(1709313683, 2), 'signature': {'hash': b'\\x08\\x17\\xe6\\xedo\\x88\\xc4\\xbdS6\\xdc1{<|t\\xe2\\x19\\xebn', 'keyId': 7278630417391943682}}, 'operationTime': Timestamp(1709313683, 2)}, acknowledged=True)"
      ]
     },
     "execution_count": 8,
     "metadata": {},
     "output_type": "execute_result"
    }
   ],
   "source": [
    "collection.delete_many(\n",
    "    {\"file_key\": file_key})"
   ]
  },
  {
   "cell_type": "code",
   "execution_count": 9,
   "metadata": {},
   "outputs": [],
   "source": [
    "collection = self.db[EMBEDDING_COLLECTION]"
   ]
  },
  {
   "cell_type": "code",
   "execution_count": 10,
   "metadata": {},
   "outputs": [
    {
     "data": {
      "text/plain": [
       "DeleteResult({'n': 112, 'electionId': ObjectId('7fffffff0000000000000048'), 'opTime': {'ts': Timestamp(1709313683, 114), 't': 72}, 'ok': 1.0, '$clusterTime': {'clusterTime': Timestamp(1709313683, 114), 'signature': {'hash': b'\\x08\\x17\\xe6\\xedo\\x88\\xc4\\xbdS6\\xdc1{<|t\\xe2\\x19\\xebn', 'keyId': 7278630417391943682}}, 'operationTime': Timestamp(1709313683, 114)}, acknowledged=True)"
      ]
     },
     "execution_count": 10,
     "metadata": {},
     "output_type": "execute_result"
    }
   ],
   "source": [
    "collection.delete_many(\n",
    "    {\"file_key\": file_key})"
   ]
  },
  {
   "cell_type": "code",
   "execution_count": 11,
   "metadata": {},
   "outputs": [],
   "source": [
    "collection = self.db[\"Chat\"]"
   ]
  },
  {
   "cell_type": "code",
   "execution_count": 12,
   "metadata": {},
   "outputs": [
    {
     "data": {
      "text/plain": [
       "DeleteResult({'n': 1, 'electionId': ObjectId('7fffffff0000000000000048'), 'opTime': {'ts': Timestamp(1709313683, 117), 't': 72}, 'ok': 1.0, '$clusterTime': {'clusterTime': Timestamp(1709313683, 117), 'signature': {'hash': b'\\x08\\x17\\xe6\\xedo\\x88\\xc4\\xbdS6\\xdc1{<|t\\xe2\\x19\\xebn', 'keyId': 7278630417391943682}}, 'operationTime': Timestamp(1709313683, 117)}, acknowledged=True)"
      ]
     },
     "execution_count": 12,
     "metadata": {},
     "output_type": "execute_result"
    }
   ],
   "source": [
    "collection.delete_many(\n",
    "    {\"file_key\": file_key})"
   ]
  },
  {
   "cell_type": "code",
   "execution_count": null,
   "metadata": {},
   "outputs": [],
   "source": []
  }
 ],
 "metadata": {
  "kernelspec": {
   "display_name": "venv",
   "language": "python",
   "name": "python3"
  },
  "language_info": {
   "codemirror_mode": {
    "name": "ipython",
    "version": 3
   },
   "file_extension": ".py",
   "mimetype": "text/x-python",
   "name": "python",
   "nbconvert_exporter": "python",
   "pygments_lexer": "ipython3",
   "version": "3.10.8"
  }
 },
 "nbformat": 4,
 "nbformat_minor": 2
}
