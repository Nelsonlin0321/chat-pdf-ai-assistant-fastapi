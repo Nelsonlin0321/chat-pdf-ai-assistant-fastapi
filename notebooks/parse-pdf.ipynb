{
 "cells": [
  {
   "cell_type": "code",
   "execution_count": null,
   "metadata": {},
   "outputs": [],
   "source": [
    "#  write a  function to ingest and parse pdf file"
   ]
  },
  {
   "cell_type": "code",
   "execution_count": null,
   "metadata": {},
   "outputs": [],
   "source": [
    "import re\n",
    "from pypdf import PdfReader\n",
    "from textblob import TextBlob"
   ]
  },
  {
   "cell_type": "markdown",
   "metadata": {},
   "source": []
  },
  {
   "cell_type": "code",
   "execution_count": null,
   "metadata": {},
   "outputs": [],
   "source": [
    "file_path = \"./../documents/Investment-Policy.pdf\""
   ]
  },
  {
   "cell_type": "code",
   "execution_count": null,
   "metadata": {},
   "outputs": [],
   "source": [
    "def parse_pdf(file_path):\n",
    "\n",
    "    reader = PdfReader(file_path)\n",
    "\n",
    "    page_sentence_list = []\n",
    "    for page_num, page in enumerate(reader.pages):\n",
    "        text = page.extract_text().strip()\n",
    "        blob = TextBlob(text)\n",
    "\n",
    "        for sentence in blob.sentences:\n",
    "            tmp_dict = {}\n",
    "            tmp_dict[\"page_number\"] = page_num\n",
    "            tmp_dict[\"sentence\"] = sentence\n",
    "            page_sentence_list.append(tmp_dict)\n",
    "\n",
    "    return page_sentence_list"
   ]
  },
  {
   "cell_type": "code",
   "execution_count": null,
   "metadata": {},
   "outputs": [],
   "source": [
    "page_sentence_list = parse_pdf(file_path)"
   ]
  },
  {
   "cell_type": "code",
   "execution_count": null,
   "metadata": {},
   "outputs": [],
   "source": [
    "def merge_sentences_to_chunks(page_sentence_list,sentence_size=128, overlapping_num=3):\n",
    "\n",
    "    chunks = []\n",
    "    accumulate_len = 0\n",
    "    sentence_sizes = []\n",
    "    windows_sentences = []\n",
    "    windows_page_numbers = []\n",
    "\n",
    "    chunk_id = 0\n",
    "    for item in page_sentence_list:\n",
    "\n",
    "        page_number = item[\"page_number\"]\n",
    "        sentence = item[\"sentence\"]\n",
    "\n",
    "        word_len = len(sentence.words)\n",
    "        if accumulate_len+word_len <= sentence_size or len(windows_sentences) == 0:\n",
    "            windows_sentences.append(str(sentence))\n",
    "            windows_page_numbers.append(page_number)\n",
    "            accumulate_len += word_len\n",
    "            sentence_sizes.append(word_len)\n",
    "\n",
    "        else:\n",
    "            windows_context = \"\\n\".join(windows_sentences)\n",
    "            chunks.append({\"chunks\": windows_context,\n",
    "                          \"page_number\": list(set(windows_page_numbers)),\n",
    "                           \"word_size\": accumulate_len,\n",
    "                           \"chunk_id\": chunk_id\n",
    "                           }\n",
    "                          )\n",
    "            # initialize\n",
    "            chunk_id += 1\n",
    "            windows_sentences = windows_sentences[-overlapping_num:].copy()+[\n",
    "                str(sentence)]\n",
    "            windows_page_numbers = windows_page_numbers[-overlapping_num:].copy()+[\n",
    "                page_number]\n",
    "            accumulate_len = sum(sentence_sizes[-overlapping_num:]) + word_len\n",
    "\n",
    "    if len(windows_sentences) > 0:\n",
    "        windows_context = \"\\n\".join(windows_sentences)\n",
    "        chunks.append({\"chunks\": windows_context,\n",
    "                      \"page_number\": list(set(windows_page_numbers)),\n",
    "                       \"word_size\": accumulate_len,\n",
    "                       \"chunk_id\": chunk_id\n",
    "                       })\n",
    "\n",
    "    return chunks"
   ]
  },
  {
   "cell_type": "code",
   "execution_count": null,
   "metadata": {},
   "outputs": [],
   "source": [
    "merge_sentences_to_chunks(page_sentence_list)"
   ]
  },
  {
   "cell_type": "code",
   "execution_count": null,
   "metadata": {},
   "outputs": [],
   "source": []
  }
 ],
 "metadata": {
  "kernelspec": {
   "display_name": "venv",
   "language": "python",
   "name": "python3"
  },
  "language_info": {
   "codemirror_mode": {
    "name": "ipython",
    "version": 3
   },
   "file_extension": ".py",
   "mimetype": "text/x-python",
   "name": "python",
   "nbconvert_exporter": "python",
   "pygments_lexer": "ipython3",
   "version": "3.10.8"
  }
 },
 "nbformat": 4,
 "nbformat_minor": 2
}
