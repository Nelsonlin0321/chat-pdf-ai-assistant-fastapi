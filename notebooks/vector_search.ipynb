{
 "cells": [
  {
   "cell_type": "code",
   "execution_count": 1,
   "metadata": {},
   "outputs": [],
   "source": [
    "import sys\n",
    "sys.path.insert(0, \"./../\")"
   ]
  },
  {
   "cell_type": "code",
   "execution_count": 2,
   "metadata": {},
   "outputs": [],
   "source": [
    "import pandas as pd"
   ]
  },
  {
   "cell_type": "code",
   "execution_count": 3,
   "metadata": {},
   "outputs": [],
   "source": [
    "from app.mongodb_engine import MongoDB\n",
    "from app.vertex_ai import TextEmbedding"
   ]
  },
  {
   "cell_type": "code",
   "execution_count": 4,
   "metadata": {},
   "outputs": [],
   "source": [
    "mongo_db = MongoDB()"
   ]
  },
  {
   "cell_type": "code",
   "execution_count": 5,
   "metadata": {},
   "outputs": [],
   "source": [
    "query = \"How much is the range of Inflation Protected ?\""
   ]
  },
  {
   "cell_type": "code",
   "execution_count": 6,
   "metadata": {},
   "outputs": [],
   "source": [
    "file_key = \"chatpdf/user_2cotzAlVmd4jt0TlizIjUV0tzTi/4bba125b-4861-45e7-b50a-fda1e53d0de0/investment_policy_guidelines.pdf\""
   ]
  },
  {
   "cell_type": "code",
   "execution_count": 7,
   "metadata": {},
   "outputs": [],
   "source": [
    "limit = 5"
   ]
  },
  {
   "cell_type": "code",
   "execution_count": 8,
   "metadata": {},
   "outputs": [],
   "source": [
    "embedding_model = TextEmbedding()"
   ]
  },
  {
   "cell_type": "code",
   "execution_count": 9,
   "metadata": {},
   "outputs": [
    {
     "name": "stderr",
     "output_type": "stream",
     "text": [
      "100%|██████████| 1/1 [00:01<00:00,  1.06s/it]\n"
     ]
    }
   ],
   "source": [
    "query_vector = embedding_model([query])"
   ]
  },
  {
   "cell_type": "code",
   "execution_count": 10,
   "metadata": {},
   "outputs": [],
   "source": [
    "query_vector = query_vector[0]"
   ]
  },
  {
   "cell_type": "code",
   "execution_count": 11,
   "metadata": {},
   "outputs": [],
   "source": [
    "vector_search_result = mongo_db.vector_search(query_vector=query_vector,\n",
    "                                              limit=limit, file_key=file_key)"
   ]
  },
  {
   "cell_type": "code",
   "execution_count": 12,
   "metadata": {},
   "outputs": [
    {
     "data": {
      "text/plain": [
       "[{'text': 'Aim to minimize the probability of a decline in excess of 15% in any single year.\\nResearch  Foundation  for the State University of New York  \\nInvestment Policy and Guidelines  \\n \\nSeptember 21, 2023  \\n \\n6 \\n  \\n \\nII.\\nInvestment Guidelines and Asset Allocation  \\n \\nA.\\nDiversification  \\nThe RF’s assets will be diversified both by asset class (e.g., equities, bonds, absolute return, real \\nestate, commodities, inflation -protected securities and cash equivalents) and within asset classes (e.g., \\nby country, economic sector, industry, quality, and size).\\nThe purpose of diversification is to minimize \\nunsystematic risk and to provide reasonable assurance that no single security or class of securities will \\nhave a disproportionate impact on the Operational  Pools.',\n",
       "  'page_number': [4, 5],\n",
       "  'word_size': 101,\n",
       "  'chunk_id': 19,\n",
       "  'chat_id': '4bba125b-4861-45e7-b50a-fda1e53d0de0',\n",
       "  'file_key': 'chatpdf/user_2cotzAlVmd4jt0TlizIjUV0tzTi/4bba125b-4861-45e7-b50a-fda1e53d0de0/investment_policy_guidelines.pdf',\n",
       "  'score': 0.8125348091125488},\n",
       " {'text': 'If the funding plan changes and funds are deposited to cover the \\ncurrent year benefit obligations, these funds will be invested in cash/short term assets and available for \\nmonthly withdrawals.\\n• 80% of the portfolio is assumed to have a duration of 7 -10 years or longer .\\nLong term return target \\nof 7%.\\nAim to minimize the probability of a decline in excess of 15% in any single year.\\nResearch  Foundation  for the State University of New York  \\nInvestment Policy and Guidelines  \\n \\nSeptember 21, 2023  \\n \\n6 \\n  \\n \\nII.\\nInvestment Guidelines and Asset Allocation  \\n \\nA.',\n",
       "  'page_number': [4, 5],\n",
       "  'word_size': 93,\n",
       "  'chunk_id': 18,\n",
       "  'chat_id': '4bba125b-4861-45e7-b50a-fda1e53d0de0',\n",
       "  'file_key': 'chatpdf/user_2cotzAlVmd4jt0TlizIjUV0tzTi/4bba125b-4861-45e7-b50a-fda1e53d0de0/investment_policy_guidelines.pdf',\n",
       "  'score': 0.8104774951934814},\n",
       " {'text': 'The objectives for the Operational Pool are as follows:  \\n \\n• Ensure adequate liquidity for operating  needs  \\n• Preserve capital in negative market environments  \\n• Provide annual support for the RF’s operating budget and preserve  the real purchasing power \\n(after inflation and fees) of the assets over time  \\n• Generate reasonable  risk-adjusted returns  that compare favorably with peer institutions  \\n \\nEach pool has a different risk, return, and liquidity profile.\\nPortfolio construction and manager selection \\nshould be aligned with the respective goals of each pool.\\n• Operational Pool Medium Duration:  70% of the portfolio is assumed to have a duration of 1 -6 \\nyears.\\n30% of the portfolio is assumed to have potential for withdrawal in less than a year.\\nLong \\nterm return target of 5.0% .\\nAim to minimize the probability of a decline in excess of 5% in any \\nsingle year.',\n",
       "  'page_number': [4],\n",
       "  'word_size': 117,\n",
       "  'chunk_id': 13,\n",
       "  'chat_id': '4bba125b-4861-45e7-b50a-fda1e53d0de0',\n",
       "  'file_key': 'chatpdf/user_2cotzAlVmd4jt0TlizIjUV0tzTi/4bba125b-4861-45e7-b50a-fda1e53d0de0/investment_policy_guidelines.pdf',\n",
       "  'score': 0.8103375434875488},\n",
       " {'text': 'Aim to minimize the probability of a decline in excess  of \\n15% in any single year.\\nVoluntary Employee Beneficiary (VEBA) Trust  – A VEBA Trust has been established to separately \\ninvest funds for post-retirement health care benefits to eligible employees.\\nThe VEBA Trust is a separate \\nlegal entity .\\nThese funds are designated to meet the cost of health insurance for current and future retirees.\\nThe investment strategy for the trust should allow the RF to meet ongoing obligations while minimizing \\ncontributions and controlling risks.',\n",
       "  'page_number': [4],\n",
       "  'word_size': 84,\n",
       "  'chunk_id': 15,\n",
       "  'chat_id': '4bba125b-4861-45e7-b50a-fda1e53d0de0',\n",
       "  'file_key': 'chatpdf/user_2cotzAlVmd4jt0TlizIjUV0tzTi/4bba125b-4861-45e7-b50a-fda1e53d0de0/investment_policy_guidelines.pdf',\n",
       "  'score': 0.8059133291244507},\n",
       " {'text': '30% of the portfolio is assumed to have potential for withdrawal in less than a year.\\nLong \\nterm return target of 5.0% .\\nAim to minimize the probability of a decline in excess of 5% in any \\nsingle year.\\n• Operational Pool Long Duration:  80% of the portfolio is assumed to have a duration of 7 -10 years \\nor longer.\\nLong term return target of 7 %.\\nAim to minimize the probability of a decline in excess  of \\n15% in any single year.\\nVoluntary Employee Beneficiary (VEBA) Trust  – A VEBA Trust has been established to separately \\ninvest funds for post-retirement health care benefits to eligible employees.\\nThe VEBA Trust is a separate \\nlegal entity .',\n",
       "  'page_number': [4],\n",
       "  'word_size': 116,\n",
       "  'chunk_id': 14,\n",
       "  'chat_id': '4bba125b-4861-45e7-b50a-fda1e53d0de0',\n",
       "  'file_key': 'chatpdf/user_2cotzAlVmd4jt0TlizIjUV0tzTi/4bba125b-4861-45e7-b50a-fda1e53d0de0/investment_policy_guidelines.pdf',\n",
       "  'score': 0.8044908046722412}]"
      ]
     },
     "execution_count": 12,
     "metadata": {},
     "output_type": "execute_result"
    }
   ],
   "source": [
    "vector_search_result"
   ]
  },
  {
   "cell_type": "code",
   "execution_count": 11,
   "metadata": {},
   "outputs": [],
   "source": [
    "keyword_search_result = mongo_db.keyword_search(query=query,\n",
    "                                                limit=limit, file_key=file_key)"
   ]
  },
  {
   "cell_type": "code",
   "execution_count": 14,
   "metadata": {},
   "outputs": [],
   "source": [
    "df_keyword = pd.DataFrame(keyword_search_result)"
   ]
  },
  {
   "cell_type": "code",
   "execution_count": 15,
   "metadata": {},
   "outputs": [],
   "source": [
    "df_vector = pd.DataFrame(vector_search_result)"
   ]
  },
  {
   "cell_type": "code",
   "execution_count": 16,
   "metadata": {},
   "outputs": [
    {
     "data": {
      "text/html": [
       "<div>\n",
       "<style scoped>\n",
       "    .dataframe tbody tr th:only-of-type {\n",
       "        vertical-align: middle;\n",
       "    }\n",
       "\n",
       "    .dataframe tbody tr th {\n",
       "        vertical-align: top;\n",
       "    }\n",
       "\n",
       "    .dataframe thead th {\n",
       "        text-align: right;\n",
       "    }\n",
       "</style>\n",
       "<table border=\"1\" class=\"dataframe\">\n",
       "  <thead>\n",
       "    <tr style=\"text-align: right;\">\n",
       "      <th></th>\n",
       "      <th>text</th>\n",
       "      <th>page_number</th>\n",
       "      <th>word_size</th>\n",
       "      <th>chunk_id</th>\n",
       "      <th>chat_id</th>\n",
       "      <th>file_key</th>\n",
       "      <th>score</th>\n",
       "    </tr>\n",
       "  </thead>\n",
       "  <tbody>\n",
       "    <tr>\n",
       "      <th>0</th>\n",
       "      <td>Aim to minimize the probability of a decline i...</td>\n",
       "      <td>[4, 5]</td>\n",
       "      <td>101</td>\n",
       "      <td>19</td>\n",
       "      <td>4bba125b-4861-45e7-b50a-fda1e53d0de0</td>\n",
       "      <td>chatpdf/user_2cotzAlVmd4jt0TlizIjUV0tzTi/4bba1...</td>\n",
       "      <td>0.812526</td>\n",
       "    </tr>\n",
       "    <tr>\n",
       "      <th>1</th>\n",
       "      <td>If the funding plan changes and funds are depo...</td>\n",
       "      <td>[4, 5]</td>\n",
       "      <td>93</td>\n",
       "      <td>18</td>\n",
       "      <td>4bba125b-4861-45e7-b50a-fda1e53d0de0</td>\n",
       "      <td>chatpdf/user_2cotzAlVmd4jt0TlizIjUV0tzTi/4bba1...</td>\n",
       "      <td>0.810322</td>\n",
       "    </tr>\n",
       "    <tr>\n",
       "      <th>2</th>\n",
       "      <td>The objectives for the Operational Pool are as...</td>\n",
       "      <td>[4]</td>\n",
       "      <td>117</td>\n",
       "      <td>13</td>\n",
       "      <td>4bba125b-4861-45e7-b50a-fda1e53d0de0</td>\n",
       "      <td>chatpdf/user_2cotzAlVmd4jt0TlizIjUV0tzTi/4bba1...</td>\n",
       "      <td>0.810300</td>\n",
       "    </tr>\n",
       "    <tr>\n",
       "      <th>3</th>\n",
       "      <td>Aim to minimize the probability of a decline i...</td>\n",
       "      <td>[4]</td>\n",
       "      <td>84</td>\n",
       "      <td>15</td>\n",
       "      <td>4bba125b-4861-45e7-b50a-fda1e53d0de0</td>\n",
       "      <td>chatpdf/user_2cotzAlVmd4jt0TlizIjUV0tzTi/4bba1...</td>\n",
       "      <td>0.805786</td>\n",
       "    </tr>\n",
       "    <tr>\n",
       "      <th>4</th>\n",
       "      <td>30% of the portfolio is assumed to have potent...</td>\n",
       "      <td>[4]</td>\n",
       "      <td>116</td>\n",
       "      <td>14</td>\n",
       "      <td>4bba125b-4861-45e7-b50a-fda1e53d0de0</td>\n",
       "      <td>chatpdf/user_2cotzAlVmd4jt0TlizIjUV0tzTi/4bba1...</td>\n",
       "      <td>0.804315</td>\n",
       "    </tr>\n",
       "  </tbody>\n",
       "</table>\n",
       "</div>"
      ],
      "text/plain": [
       "                                                text page_number  word_size  \\\n",
       "0  Aim to minimize the probability of a decline i...      [4, 5]        101   \n",
       "1  If the funding plan changes and funds are depo...      [4, 5]         93   \n",
       "2  The objectives for the Operational Pool are as...         [4]        117   \n",
       "3  Aim to minimize the probability of a decline i...         [4]         84   \n",
       "4  30% of the portfolio is assumed to have potent...         [4]        116   \n",
       "\n",
       "   chunk_id                               chat_id  \\\n",
       "0        19  4bba125b-4861-45e7-b50a-fda1e53d0de0   \n",
       "1        18  4bba125b-4861-45e7-b50a-fda1e53d0de0   \n",
       "2        13  4bba125b-4861-45e7-b50a-fda1e53d0de0   \n",
       "3        15  4bba125b-4861-45e7-b50a-fda1e53d0de0   \n",
       "4        14  4bba125b-4861-45e7-b50a-fda1e53d0de0   \n",
       "\n",
       "                                            file_key     score  \n",
       "0  chatpdf/user_2cotzAlVmd4jt0TlizIjUV0tzTi/4bba1...  0.812526  \n",
       "1  chatpdf/user_2cotzAlVmd4jt0TlizIjUV0tzTi/4bba1...  0.810322  \n",
       "2  chatpdf/user_2cotzAlVmd4jt0TlizIjUV0tzTi/4bba1...  0.810300  \n",
       "3  chatpdf/user_2cotzAlVmd4jt0TlizIjUV0tzTi/4bba1...  0.805786  \n",
       "4  chatpdf/user_2cotzAlVmd4jt0TlizIjUV0tzTi/4bba1...  0.804315  "
      ]
     },
     "execution_count": 16,
     "metadata": {},
     "output_type": "execute_result"
    }
   ],
   "source": [
    "df_vector"
   ]
  },
  {
   "cell_type": "code",
   "execution_count": null,
   "metadata": {},
   "outputs": [],
   "source": [
    "def combine_vector_keyword_search(vector_search_results, keyword_search_results, limit: int = 5):\n",
    "\n",
    "    if len(vector_search_results) == 0 and len(keyword_search_results) == 0:\n",
    "        return []\n",
    "\n",
    "    df_keyword_search = pd.DataFrame(keyword_search_results)\n",
    "    df_vector_search = pd.DataFrame(vector_search_results)\n",
    "\n",
    "    if len(vector_search_results) == 0:\n",
    "        return vector_search_results\n",
    "\n",
    "    if len(keyword_search_results) == 0:\n",
    "        return keyword_search_results\n",
    "\n",
    "    both_hit_indices = set(df_vector_search[['chunk_id']].merge(\n",
    "        df_keyword_search[['chunk_id']])['chunk_id'])\n",
    "\n",
    "    rest_size = limit - len(both_hit_indices)\n",
    "\n",
    "    df_vector_search = normalized_score(df_vector_search)\n",
    "    df_keyword_search = normalized_score(df_keyword_search)\n",
    "\n",
    "    df_hybrid_search = pd.concat([df_keyword_search, df_vector_search])\n",
    "\n",
    "    df_hybrid_search_1 = df_keyword_search[df_keyword_search['textIdx'].isin(\n",
    "        both_hit_indices)].copy()\n",
    "\n",
    "    df_hybrid_search_1['both_hit'] = True\n",
    "    df_hybrid_search_2 = df_hybrid_search[~df_hybrid_search['textIdx'].isin(\n",
    "        both_hit_indices)].copy()\n",
    "\n",
    "    df_hybrid_search_2 = df_hybrid_search_2.sort_values(\n",
    "        by='normalized_score', ascending=False).head(rest_size)\n",
    "    df_hybrid_search_2['both_hit'] = False\n",
    "\n",
    "    df_hybrid_search = pd.concat([df_hybrid_search_1, df_hybrid_search_2])\n",
    "\n",
    "    results = df_hybrid_search.to_dict(orient='records')\n",
    "\n",
    "    return results"
   ]
  },
  {
   "cell_type": "code",
   "execution_count": null,
   "metadata": {},
   "outputs": [],
   "source": [
    "def normalized_score(df):\n",
    "    max_score = max(df['score'])\n",
    "    min_score = min(df['score'])\n",
    "    if (max_score-min_score) == 0:\n",
    "        df['normalized_score'] = 1\n",
    "    else:\n",
    "        df['normalized_score'] = df['score'].apply(\n",
    "            lambda x: (x-min_score)/(max_score-min_score))\n",
    "    return df"
   ]
  }
 ],
 "metadata": {
  "kernelspec": {
   "display_name": "venv",
   "language": "python",
   "name": "python3"
  },
  "language_info": {
   "codemirror_mode": {
    "name": "ipython",
    "version": 3
   },
   "file_extension": ".py",
   "mimetype": "text/x-python",
   "name": "python",
   "nbconvert_exporter": "python",
   "pygments_lexer": "ipython3",
   "version": "3.10.8"
  }
 },
 "nbformat": 4,
 "nbformat_minor": 2
}
