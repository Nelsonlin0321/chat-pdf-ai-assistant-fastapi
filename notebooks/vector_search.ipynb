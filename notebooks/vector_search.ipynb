{
 "cells": [
  {
   "cell_type": "code",
   "execution_count": 1,
   "metadata": {},
   "outputs": [],
   "source": [
    "import sys\n",
    "sys.path.insert(0, \"./../\")"
   ]
  },
  {
   "cell_type": "code",
   "execution_count": 2,
   "metadata": {},
   "outputs": [],
   "source": [
    "from app.mongodb_engine import MongoDB\n",
    "from app.vertex_ai import TextEmbedding"
   ]
  },
  {
   "cell_type": "code",
   "execution_count": 3,
   "metadata": {},
   "outputs": [],
   "source": [
    "mongo_db = MongoDB()"
   ]
  },
  {
   "cell_type": "code",
   "execution_count": 4,
   "metadata": {},
   "outputs": [],
   "source": [
    "query = \"How much is the range of Inflation Protected ?\""
   ]
  },
  {
   "cell_type": "code",
   "execution_count": 5,
   "metadata": {},
   "outputs": [],
   "source": [
    "file_key = \"chatpdf/user_2cotzAlVmd4jt0TlizIjUV0tzTi/4bba125b-4861-45e7-b50a-fda1e53d0de0/investment_policy_guidelines.pdf\""
   ]
  },
  {
   "cell_type": "code",
   "execution_count": 6,
   "metadata": {},
   "outputs": [],
   "source": [
    "limit = 5"
   ]
  },
  {
   "cell_type": "code",
   "execution_count": 7,
   "metadata": {},
   "outputs": [],
   "source": [
    "embedding_model = TextEmbedding()"
   ]
  },
  {
   "cell_type": "code",
   "execution_count": 8,
   "metadata": {},
   "outputs": [
    {
     "name": "stderr",
     "output_type": "stream",
     "text": [
      "100%|██████████| 1/1 [00:01<00:00,  1.09s/it]\n"
     ]
    }
   ],
   "source": [
    "query_vector = embedding_model([query])"
   ]
  },
  {
   "cell_type": "code",
   "execution_count": 9,
   "metadata": {},
   "outputs": [],
   "source": [
    "query_vector = query_vector[0]"
   ]
  },
  {
   "cell_type": "code",
   "execution_count": 10,
   "metadata": {},
   "outputs": [
    {
     "data": {
      "text/plain": [
       "[{'text': 'Aim to minimize the probability of a decline in excess of 15% in any single year.\\nResearch  Foundation  for the State University of New York  \\nInvestment Policy and Guidelines  \\n \\nSeptember 21, 2023  \\n \\n6 \\n  \\n \\nII.\\nInvestment Guidelines and Asset Allocation  \\n \\nA.\\nDiversification  \\nThe RF’s assets will be diversified both by asset class (e.g., equities, bonds, absolute return, real \\nestate, commodities, inflation -protected securities and cash equivalents) and within asset classes (e.g., \\nby country, economic sector, industry, quality, and size).\\nThe purpose of diversification is to minimize \\nunsystematic risk and to provide reasonable assurance that no single security or class of securities will \\nhave a disproportionate impact on the Operational  Pools.',\n",
       "  'page_number': [4, 5],\n",
       "  'word_size': 101,\n",
       "  'chunk_id': 19,\n",
       "  'chat_id': '4bba125b-4861-45e7-b50a-fda1e53d0de0',\n",
       "  'file_key': 'chatpdf/user_2cotzAlVmd4jt0TlizIjUV0tzTi/4bba125b-4861-45e7-b50a-fda1e53d0de0/investment_policy_guidelines.pdf',\n",
       "  'score': 0.8125348091125488},\n",
       " {'text': 'If the funding plan changes and funds are deposited to cover the \\ncurrent year benefit obligations, these funds will be invested in cash/short term assets and available for \\nmonthly withdrawals.\\n• 80% of the portfolio is assumed to have a duration of 7 -10 years or longer .\\nLong term return target \\nof 7%.\\nAim to minimize the probability of a decline in excess of 15% in any single year.\\nResearch  Foundation  for the State University of New York  \\nInvestment Policy and Guidelines  \\n \\nSeptember 21, 2023  \\n \\n6 \\n  \\n \\nII.\\nInvestment Guidelines and Asset Allocation  \\n \\nA.',\n",
       "  'page_number': [4, 5],\n",
       "  'word_size': 93,\n",
       "  'chunk_id': 18,\n",
       "  'chat_id': '4bba125b-4861-45e7-b50a-fda1e53d0de0',\n",
       "  'file_key': 'chatpdf/user_2cotzAlVmd4jt0TlizIjUV0tzTi/4bba125b-4861-45e7-b50a-fda1e53d0de0/investment_policy_guidelines.pdf',\n",
       "  'score': 0.8104774951934814},\n",
       " {'text': 'The objectives for the Operational Pool are as follows:  \\n \\n• Ensure adequate liquidity for operating  needs  \\n• Preserve capital in negative market environments  \\n• Provide annual support for the RF’s operating budget and preserve  the real purchasing power \\n(after inflation and fees) of the assets over time  \\n• Generate reasonable  risk-adjusted returns  that compare favorably with peer institutions  \\n \\nEach pool has a different risk, return, and liquidity profile.\\nPortfolio construction and manager selection \\nshould be aligned with the respective goals of each pool.\\n• Operational Pool Medium Duration:  70% of the portfolio is assumed to have a duration of 1 -6 \\nyears.\\n30% of the portfolio is assumed to have potential for withdrawal in less than a year.\\nLong \\nterm return target of 5.0% .\\nAim to minimize the probability of a decline in excess of 5% in any \\nsingle year.',\n",
       "  'page_number': [4],\n",
       "  'word_size': 117,\n",
       "  'chunk_id': 13,\n",
       "  'chat_id': '4bba125b-4861-45e7-b50a-fda1e53d0de0',\n",
       "  'file_key': 'chatpdf/user_2cotzAlVmd4jt0TlizIjUV0tzTi/4bba125b-4861-45e7-b50a-fda1e53d0de0/investment_policy_guidelines.pdf',\n",
       "  'score': 0.8103375434875488},\n",
       " {'text': 'Aim to minimize the probability of a decline in excess  of \\n15% in any single year.\\nVoluntary Employee Beneficiary (VEBA) Trust  – A VEBA Trust has been established to separately \\ninvest funds for post-retirement health care benefits to eligible employees.\\nThe VEBA Trust is a separate \\nlegal entity .\\nThese funds are designated to meet the cost of health insurance for current and future retirees.\\nThe investment strategy for the trust should allow the RF to meet ongoing obligations while minimizing \\ncontributions and controlling risks.',\n",
       "  'page_number': [4],\n",
       "  'word_size': 84,\n",
       "  'chunk_id': 15,\n",
       "  'chat_id': '4bba125b-4861-45e7-b50a-fda1e53d0de0',\n",
       "  'file_key': 'chatpdf/user_2cotzAlVmd4jt0TlizIjUV0tzTi/4bba125b-4861-45e7-b50a-fda1e53d0de0/investment_policy_guidelines.pdf',\n",
       "  'score': 0.8059133291244507},\n",
       " {'text': '30% of the portfolio is assumed to have potential for withdrawal in less than a year.\\nLong \\nterm return target of 5.0% .\\nAim to minimize the probability of a decline in excess of 5% in any \\nsingle year.\\n• Operational Pool Long Duration:  80% of the portfolio is assumed to have a duration of 7 -10 years \\nor longer.\\nLong term return target of 7 %.\\nAim to minimize the probability of a decline in excess  of \\n15% in any single year.\\nVoluntary Employee Beneficiary (VEBA) Trust  – A VEBA Trust has been established to separately \\ninvest funds for post-retirement health care benefits to eligible employees.\\nThe VEBA Trust is a separate \\nlegal entity .',\n",
       "  'page_number': [4],\n",
       "  'word_size': 116,\n",
       "  'chunk_id': 14,\n",
       "  'chat_id': '4bba125b-4861-45e7-b50a-fda1e53d0de0',\n",
       "  'file_key': 'chatpdf/user_2cotzAlVmd4jt0TlizIjUV0tzTi/4bba125b-4861-45e7-b50a-fda1e53d0de0/investment_policy_guidelines.pdf',\n",
       "  'score': 0.8044908046722412}]"
      ]
     },
     "execution_count": 10,
     "metadata": {},
     "output_type": "execute_result"
    }
   ],
   "source": [
    "mongo_db.vector_search(query_vector=query_vector,\n",
    "                       limit=limit, file_key=file_key)"
   ]
  },
  {
   "cell_type": "code",
   "execution_count": 11,
   "metadata": {},
   "outputs": [
    {
     "data": {
      "text/plain": [
       "'chatpdf/user_2cotzAlVmd4jt0TlizIjUV0tzTi/4bba125b-4861-45e7-b50a-fda1e53d0de0/investment_policy_guidelines.pdf'"
      ]
     },
     "execution_count": 11,
     "metadata": {},
     "output_type": "execute_result"
    }
   ],
   "source": [
    "file_key"
   ]
  },
  {
   "cell_type": "code",
   "execution_count": 12,
   "metadata": {},
   "outputs": [
    {
     "data": {
      "text/plain": [
       "[{'text': 'C. Strategic Rebalancing  \\nThe investment consultant  may, suggest asset -rebalancing strategies, even if a particular pool is not \\nactually out of compliance.\\nThese strategies will be implemented in pursuit of exploiting short term \\npricing inefficiencies.\\nResearch  Foundation  for the State University of New York  \\nInvestment Policy and Guidelines  \\n \\nSeptember 21, 2023  \\n \\n7 \\n  \\n \\nD. Asset Allocation  \\nIn order to  have a reasonable probability of consistently achieving the RF’s long term return objectives, \\nthe Committee has adopted the asset allocation policies outlined below : \\n \\n \\nOPERATIONAL POOL MEDIUM DURATION  \\nAsset Class  Long Term Target %  Ranges  \\nCash  3% 0-10% \\n      \\nFixed Income  31.5%  15-45% \\nGovernment Bonds  12.5%    0-20%  \\nCredit  19% 5-30% \\n   \\nEquities  33% 20-40% \\nGlobal Equities  17% 10-30% \\nHedged Equities  16% 0-30% \\nPrivate Equity  0% 0% \\n      \\nAbsolute Return  15% 0-25% \\n      \\nReal Assets  17.5%  5-30% \\nInflation -Protected  12.5%  0-20% \\nCommodities  0% 0-5% \\nGlobal Real Estate  5% 2-15% \\n \\n \\n OPERATIONAL POOL  LONG DURATION  \\nAsset Class  Long Term Target %  Ranges  \\nCash  1% 0-10% \\n      \\nFixed Income  21% 5-30% \\nGovernment Bonds  8% 0-30% \\nCredit   4%  0-20%  \\nPrivate Debt  9% 0-20% \\n   \\nEquities  60% 40-80% \\nGlobal Equities  28% 20-50% \\nHedged Equities  15% 0-25% \\nPrivate Equity  17% 0-25% \\n      \\nAbsolute Return  5% 0-20% \\n      \\nReal Assets  13% 10-30% \\nInflation -Protected  3% 0-10% \\nCommodities  0% 0-10%\\nResearch  Foundation  for the State University of New York  \\nInvestment Policy and Guidelines  \\n \\nSeptember 21, 2023  \\n \\n8 \\n Global Real Estate  10% 5-20% \\n   \\n \\nVoluntary Employee Beneficiary Association (VEBA) Trust  \\nAsset Class  Long Term Target %  Ranges  \\nCash  1% 0-10% \\n      \\nFixed Income  21% 5-30% \\nGovernment Bonds  8% 0-30% \\nCredit  4% 0-20% \\nPrivate Debt  9% 0-20% \\n      \\nEquities  60% 40-80% \\nGlobal Equities  28% 20-50% \\nHedged Equities  15% 0-25% \\nPrivate Equity  17% 0-25% \\n      \\nAbsolute Return  5% 0-20% \\n      \\nReal Assets  13% 10-30% \\nInflation -Protected  3% 0-10% \\nCommodities  0% 0-10% \\nGlobal Real Estate  10% 5-20% \\n \\n  \\nE. Ineligible Investments  \\nUnless specifically approved by the Committee  or consistent with the Exception below , certain securities, \\nstrategies and investments are ineligible for direct investment:  \\n• Derivative instruments, except as otherwise permitted in the Derivatives Policy and for Currency \\nhedging overlays.',\n",
       "  'page_number': [5, 6, 7],\n",
       "  'word_size': 184,\n",
       "  'chunk_id': 24,\n",
       "  'chat_id': '4bba125b-4861-45e7-b50a-fda1e53d0de0',\n",
       "  'file_key': 'chatpdf/user_2cotzAlVmd4jt0TlizIjUV0tzTi/4bba125b-4861-45e7-b50a-fda1e53d0de0/investment_policy_guidelines.pdf',\n",
       "  'score': 4.119295120239258},\n",
       " {'text': 'Diversification within asset classes will also be monitored by the investment consultant and appropriate \\nrebalancing within asset classes or across managers should be undertaken if exposures become \\nsignificantly over/under weight versus respective target size.\\nC. Strategic Rebalancing  \\nThe investment consultant  may, suggest asset -rebalancing strategies, even if a particular pool is not \\nactually out of compliance.\\nThese strategies will be implemented in pursuit of exploiting short term \\npricing inefficiencies.\\nResearch  Foundation  for the State University of New York  \\nInvestment Policy and Guidelines  \\n \\nSeptember 21, 2023  \\n \\n7 \\n  \\n \\nD. Asset Allocation  \\nIn order to  have a reasonable probability of consistently achieving the RF’s long term return objectives, \\nthe Committee has adopted the asset allocation policies outlined below : \\n \\n \\nOPERATIONAL POOL MEDIUM DURATION  \\nAsset Class  Long Term Target %  Ranges  \\nCash  3% 0-10% \\n      \\nFixed Income  31.5%  15-45% \\nGovernment Bonds  12.5%    0-20%  \\nCredit  19% 5-30% \\n   \\nEquities  33% 20-40% \\nGlobal Equities  17% 10-30% \\nHedged Equities  16% 0-30% \\nPrivate Equity  0% 0% \\n      \\nAbsolute Return  15% 0-25% \\n      \\nReal Assets  17.5%  5-30% \\nInflation -Protected  12.5%  0-20% \\nCommodities  0% 0-5% \\nGlobal Real Estate  5% 2-15% \\n \\n \\n OPERATIONAL POOL  LONG DURATION  \\nAsset Class  Long Term Target %  Ranges  \\nCash  1% 0-10% \\n      \\nFixed Income  21% 5-30% \\nGovernment Bonds  8% 0-30% \\nCredit   4%  0-20%  \\nPrivate Debt  9% 0-20% \\n   \\nEquities  60% 40-80% \\nGlobal Equities  28% 20-50% \\nHedged Equities  15% 0-25% \\nPrivate Equity  17% 0-25% \\n      \\nAbsolute Return  5% 0-20% \\n      \\nReal Assets  13% 10-30% \\nInflation -Protected  3% 0-10% \\nCommodities  0% 0-10%',\n",
       "  'page_number': [5, 6],\n",
       "  'word_size': 221,\n",
       "  'chunk_id': 23,\n",
       "  'chat_id': '4bba125b-4861-45e7-b50a-fda1e53d0de0',\n",
       "  'file_key': 'chatpdf/user_2cotzAlVmd4jt0TlizIjUV0tzTi/4bba125b-4861-45e7-b50a-fda1e53d0de0/investment_policy_guidelines.pdf',\n",
       "  'score': 3.952756881713867},\n",
       " {'text': 'These strategies will be implemented in pursuit of exploiting short term \\npricing inefficiencies.\\nResearch  Foundation  for the State University of New York  \\nInvestment Policy and Guidelines  \\n \\nSeptember 21, 2023  \\n \\n7 \\n  \\n \\nD. Asset Allocation  \\nIn order to  have a reasonable probability of consistently achieving the RF’s long term return objectives, \\nthe Committee has adopted the asset allocation policies outlined below : \\n \\n \\nOPERATIONAL POOL MEDIUM DURATION  \\nAsset Class  Long Term Target %  Ranges  \\nCash  3% 0-10% \\n      \\nFixed Income  31.5%  15-45% \\nGovernment Bonds  12.5%    0-20%  \\nCredit  19% 5-30% \\n   \\nEquities  33% 20-40% \\nGlobal Equities  17% 10-30% \\nHedged Equities  16% 0-30% \\nPrivate Equity  0% 0% \\n      \\nAbsolute Return  15% 0-25% \\n      \\nReal Assets  17.5%  5-30% \\nInflation -Protected  12.5%  0-20% \\nCommodities  0% 0-5% \\nGlobal Real Estate  5% 2-15% \\n \\n \\n OPERATIONAL POOL  LONG DURATION  \\nAsset Class  Long Term Target %  Ranges  \\nCash  1% 0-10% \\n      \\nFixed Income  21% 5-30% \\nGovernment Bonds  8% 0-30% \\nCredit   4%  0-20%  \\nPrivate Debt  9% 0-20% \\n   \\nEquities  60% 40-80% \\nGlobal Equities  28% 20-50% \\nHedged Equities  15% 0-25% \\nPrivate Equity  17% 0-25% \\n      \\nAbsolute Return  5% 0-20% \\n      \\nReal Assets  13% 10-30% \\nInflation -Protected  3% 0-10% \\nCommodities  0% 0-10%\\nResearch  Foundation  for the State University of New York  \\nInvestment Policy and Guidelines  \\n \\nSeptember 21, 2023  \\n \\n8 \\n Global Real Estate  10% 5-20% \\n   \\n \\nVoluntary Employee Beneficiary Association (VEBA) Trust  \\nAsset Class  Long Term Target %  Ranges  \\nCash  1% 0-10% \\n      \\nFixed Income  21% 5-30% \\nGovernment Bonds  8% 0-30% \\nCredit  4% 0-20% \\nPrivate Debt  9% 0-20% \\n      \\nEquities  60% 40-80% \\nGlobal Equities  28% 20-50% \\nHedged Equities  15% 0-25% \\nPrivate Equity  17% 0-25% \\n      \\nAbsolute Return  5% 0-20% \\n      \\nReal Assets  13% 10-30% \\nInflation -Protected  3% 0-10% \\nCommodities  0% 0-10% \\nGlobal Real Estate  10% 5-20% \\n \\n  \\nE. Ineligible Investments  \\nUnless specifically approved by the Committee  or consistent with the Exception below , certain securities, \\nstrategies and investments are ineligible for direct investment:  \\n• Derivative instruments, except as otherwise permitted in the Derivatives Policy and for Currency \\nhedging overlays.\\n• Privately -placed debt, except marketable securities issued under Rule 144A.\\n• Initial investments in lettered, legend or other so -called restricted stock.\\n• Private placements,  real estate, oil and gas and venture capital .\\n• Investments in transactions that may generate unrelated business taxable income (“UBTI”)  are \\npermitted as long as it is expected to be low and UBTI at the portfolio level is well below 10% of \\ntotal revenue .',\n",
       "  'page_number': [5, 6, 7],\n",
       "  'word_size': 128,\n",
       "  'chunk_id': 25,\n",
       "  'chat_id': '4bba125b-4861-45e7-b50a-fda1e53d0de0',\n",
       "  'file_key': 'chatpdf/user_2cotzAlVmd4jt0TlizIjUV0tzTi/4bba125b-4861-45e7-b50a-fda1e53d0de0/investment_policy_guidelines.pdf',\n",
       "  'score': 3.927894115447998},\n",
       " {'text': 'This includes such items as board committee structure; investment policy\\nResearch  Foundation  for the State University of New York  \\nInvestment Policy and Guidelines  \\n \\nSeptember 21, 2023  \\n \\n18 \\n and guidelines; staff support; operational processes supporting the policy (internal control framework) ; \\netc.\\n• Reputation risk  is as much the perception of behaviors and actions as it is about fact.\\nIt is about ethics, \\ntrust, relationships, confidence and integrity.\\nIt is built on the fundamental belief that the Committee and \\nsenior management know how to manage the investment po rtfolio and are making prudent investment \\ndecisions.\\n• Opportunity risk is associated with the acceptance of low long -term targeted returns or a too \\nconservative investment philosophy.',\n",
       "  'page_number': [16, 17],\n",
       "  'word_size': 124,\n",
       "  'chunk_id': 104,\n",
       "  'chat_id': '4bba125b-4861-45e7-b50a-fda1e53d0de0',\n",
       "  'file_key': 'chatpdf/user_2cotzAlVmd4jt0TlizIjUV0tzTi/4bba125b-4861-45e7-b50a-fda1e53d0de0/investment_policy_guidelines.pdf',\n",
       "  'score': 3.8316032886505127},\n",
       " {'text': 'Aim to minimize the probability of a decline in excess of 15% in any single year.\\nResearch  Foundation  for the State University of New York  \\nInvestment Policy and Guidelines  \\n \\nSeptember 21, 2023  \\n \\n6 \\n  \\n \\nII.\\nInvestment Guidelines and Asset Allocation  \\n \\nA.\\nDiversification  \\nThe RF’s assets will be diversified both by asset class (e.g., equities, bonds, absolute return, real \\nestate, commodities, inflation -protected securities and cash equivalents) and within asset classes (e.g., \\nby country, economic sector, industry, quality, and size).\\nThe purpose of diversification is to minimize \\nunsystematic risk and to provide reasonable assurance that no single security or class of securities will \\nhave a disproportionate impact on the Operational  Pools.',\n",
       "  'page_number': [4, 5],\n",
       "  'word_size': 101,\n",
       "  'chunk_id': 19,\n",
       "  'chat_id': '4bba125b-4861-45e7-b50a-fda1e53d0de0',\n",
       "  'file_key': 'chatpdf/user_2cotzAlVmd4jt0TlizIjUV0tzTi/4bba125b-4861-45e7-b50a-fda1e53d0de0/investment_policy_guidelines.pdf',\n",
       "  'score': 2.820073127746582}]"
      ]
     },
     "execution_count": 12,
     "metadata": {},
     "output_type": "execute_result"
    }
   ],
   "source": [
    "mongo_db.keyword_search(query=query,\n",
    "                        limit=limit, file_key=file_key)"
   ]
  },
  {
   "cell_type": "code",
   "execution_count": null,
   "metadata": {},
   "outputs": [],
   "source": []
  }
 ],
 "metadata": {
  "kernelspec": {
   "display_name": "venv",
   "language": "python",
   "name": "python3"
  },
  "language_info": {
   "codemirror_mode": {
    "name": "ipython",
    "version": 3
   },
   "file_extension": ".py",
   "mimetype": "text/x-python",
   "name": "python",
   "nbconvert_exporter": "python",
   "pygments_lexer": "ipython3",
   "version": "3.10.8"
  }
 },
 "nbformat": 4,
 "nbformat_minor": 2
}
